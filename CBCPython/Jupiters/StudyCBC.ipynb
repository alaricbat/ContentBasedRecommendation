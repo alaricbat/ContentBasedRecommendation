{
 "cells": [
  {
   "cell_type": "markdown",
   "id": "7be05260",
   "metadata": {},
   "source": [
    "### Import Libraries"
   ]
  },
  {
   "cell_type": "code",
   "execution_count": 29,
   "id": "5fcd93e3",
   "metadata": {},
   "outputs": [],
   "source": [
    "import pandas as pd\n",
    "import numpy as np"
   ]
  },
  {
   "cell_type": "markdown",
   "id": "445e8d77",
   "metadata": {},
   "source": [
    "### Holding Data"
   ]
  },
  {
   "cell_type": "code",
   "execution_count": 30,
   "id": "f993fccb",
   "metadata": {},
   "outputs": [
    {
     "data": {
      "text/plain": [
       "(943, 5)"
      ]
     },
     "execution_count": 30,
     "metadata": {},
     "output_type": "execute_result"
    }
   ],
   "source": [
    "user_cols = ['id', 'age', 'sex', 'occupation', 'zip_code']\n",
    "user_pd = pd.read_csv('../Dataset/ml-100k/u.user', sep='|', names=user_cols, encoding='latin-1')\n",
    "user_pd.shape"
   ]
  },
  {
   "cell_type": "code",
   "execution_count": 31,
   "id": "07788c61",
   "metadata": {},
   "outputs": [
    {
     "data": {
      "text/plain": [
       "((90570, 4), (9430, 4))"
      ]
     },
     "execution_count": 31,
     "metadata": {},
     "output_type": "execute_result"
    }
   ],
   "source": [
    "rate_cols = ['user_id', 'movie_id', 'rating', 'unix_timestamp']\n",
    "rating_base_pd = pd.read_csv('../Dataset/ml-100k/ua.base', sep='\\t', names=rate_cols, encoding='latin-1')\n",
    "rating_test_pd = pd.read_csv('../Dataset/ml-100k/ua.test', sep='\\t', names=rate_cols, encoding='latin-1')\n",
    "rating_base_pd.shape, rating_test_pd.shape"
   ]
  },
  {
   "cell_type": "code",
   "execution_count": null,
   "id": "fec981b9",
   "metadata": {},
   "outputs": [
    {
     "data": {
      "text/plain": [
       "(1682, 24)"
      ]
     },
     "execution_count": 32,
     "metadata": {},
     "output_type": "execute_result"
    }
   ],
   "source": [
    "index_cols = ['movie id', 'movie title', 'released date', 'video release date', 'IMDb URL', 'unknown',\n",
    "              'Action', 'Adventure', 'Amination', 'Children\\'s', 'Comedy', 'Crime', 'Documentary', 'Drama',\n",
    "              'Fantasty', 'Film-Noir', 'Horror', 'Musical', 'Mystery', 'Romance', 'Sci-Fi', 'Thriller', 'War',\n",
    "              'Western']\n",
    "items_pd = pd.read_csv('../Dataset/ml-100k/u.item', sep='|', names=index_cols, encoding='latin-1')\n",
    "items_pd.shape"
   ]
  },
  {
   "cell_type": "code",
   "execution_count": 33,
   "id": "b76e3796",
   "metadata": {},
   "outputs": [
    {
     "data": {
      "text/plain": [
       "array([[0, 0, 0, ..., 0, 0, 0],\n",
       "       [0, 1, 1, ..., 1, 0, 0],\n",
       "       [0, 0, 0, ..., 1, 0, 0],\n",
       "       ...,\n",
       "       [0, 0, 0, ..., 0, 0, 0],\n",
       "       [0, 0, 0, ..., 0, 0, 0],\n",
       "       [0, 0, 0, ..., 0, 0, 0]], dtype=object)"
      ]
     },
     "execution_count": 33,
     "metadata": {},
     "output_type": "execute_result"
    }
   ],
   "source": [
    "X0 = items_pd.values\n",
    "X_train_counts = X0[:, -19:]\n",
    "X_train_counts"
   ]
  },
  {
   "cell_type": "markdown",
   "id": "79fcfe60",
   "metadata": {},
   "source": [
    "### TF-IDF ALGORITHMS (TERM FREQUENCY - INVERSE DOCUMENT FREQUENCY)\n",
    "\n",
    "[References]\n",
    "\n",
    "- [Understanding TF-IDF (Term Frequency-Inverse Document Frequency)](https://www.geeksforgeeks.org/machine-learning/understanding-tf-idf-term-frequency-inverse-document-frequency/)\n"
   ]
  },
  {
   "cell_type": "code",
   "execution_count": null,
   "id": "51d71fd7",
   "metadata": {},
   "outputs": [],
   "source": [
    "def parse_tf_idf():\n",
    "    pass"
   ]
  },
  {
   "cell_type": "code",
   "execution_count": null,
   "id": "403fd57c",
   "metadata": {},
   "outputs": [
    {
     "data": {
      "text/plain": [
       "(array([[0.        , 0.        , 0.        , ..., 0.        , 0.        ,\n",
       "         0.        ],\n",
       "        [0.        , 0.53676706, 0.65097024, ..., 0.53676706, 0.        ,\n",
       "         0.        ],\n",
       "        [0.        , 0.        , 0.        , ..., 1.        , 0.        ,\n",
       "         0.        ],\n",
       "        ...,\n",
       "        [0.        , 0.        , 0.        , ..., 0.        , 0.        ,\n",
       "         0.        ],\n",
       "        [0.        , 0.        , 0.        , ..., 0.        , 0.        ,\n",
       "         0.        ],\n",
       "        [0.        , 0.        , 0.        , ..., 0.        , 0.        ,\n",
       "         0.        ]]),\n",
       " (1682, 19))"
      ]
     },
     "execution_count": 34,
     "metadata": {},
     "output_type": "execute_result"
    }
   ],
   "source": [
    "#tfidf\n",
    "from sklearn.feature_extraction.text import TfidfTransformer\n",
    "transformer = TfidfTransformer(smooth_idf=True, norm='l2')\n",
    "tfidf = transformer.fit_transform(X_train_counts.tolist()).toarray()\n",
    "tfidf"
   ]
  },
  {
   "cell_type": "markdown",
   "id": "6ffc892f",
   "metadata": {},
   "source": [
    "### Get items which were reated by one user"
   ]
  },
  {
   "cell_type": "code",
   "execution_count": 75,
   "id": "1e2db669",
   "metadata": {},
   "outputs": [],
   "source": [
    "def get_items_rated_by_user(rating_matrix, user_id):\n",
    "    #refer ua.base\n",
    "    users = rating_matrix[:, 0]\n",
    "    index_of_rated_items_by_user_id = np.where(users == user_id)\n",
    "    result = rating_matrix[index_of_rated_items_by_user_id, 1:3][0]\n",
    "    #return item ids and rated scores\n",
    "    return (result[:, 0] - 1, result[:, 1])"
   ]
  },
  {
   "cell_type": "markdown",
   "id": "149b6108",
   "metadata": {},
   "source": [
    "### Modalization Users"
   ]
  },
  {
   "cell_type": "code",
   "execution_count": 74,
   "id": "8907de31",
   "metadata": {},
   "outputs": [],
   "source": [
    "n_users = user_pd.shape[0]\n",
    "d = tfidf.shape[1] #data dimension\n",
    "W = np.zeros((d, n_users))\n",
    "b = np.zeros((1, n_users))"
   ]
  },
  {
   "cell_type": "code",
   "execution_count": 80,
   "id": "5c9d8b92",
   "metadata": {},
   "outputs": [],
   "source": [
    "from sklearn.linear_model import Ridge\n",
    "from sklearn import linear_model\n",
    "\n",
    "for user_index in range (n_users):\n",
    "    user_id = user_index + 1\n",
    "    \n",
    "    items_ids, rated_scores = get_items_rated_by_user(rating_base_pd.values, user_id)\n",
    "\n",
    "    clf = Ridge(alpha=0.01, fit_intercept=True)\n",
    "    Xhat = tfidf[items_ids, :]\n",
    "\n",
    "    clf.fit(Xhat, rated_scores)\n",
    "\n",
    "    W[:, user_index] = clf.coef_\n",
    "    b[0, user_index] = clf.intercept_"
   ]
  },
  {
   "cell_type": "markdown",
   "id": "0bdb28c9",
   "metadata": {},
   "source": [
    "### Predicted Scores"
   ]
  },
  {
   "cell_type": "code",
   "execution_count": 81,
   "id": "eaec8366",
   "metadata": {},
   "outputs": [],
   "source": [
    "Yhat = np.dot(tfidf, W) + b"
   ]
  },
  {
   "cell_type": "code",
   "execution_count": 84,
   "id": "53d606e4",
   "metadata": {},
   "outputs": [
    {
     "name": "stdout",
     "output_type": "stream",
     "text": [
      "Rated movies ids : [  6  15  99 174 284 460 485 487 503 610]\n",
      "True ratings     : [4 4 5 3 5 3 4 5 5 5]\n",
      "Predicted ratings: [3.79490523 3.42107302 3.37955573 3.29809875 3.94973869 3.94973869\n",
      " 3.42107302 2.60504254 3.51887045 3.12940841]\n"
     ]
    }
   ],
   "source": [
    "user_id = 10\n",
    "items_ids, rated_scores = get_items_rated_by_user(rating_test_pd.values, user_id)\n",
    "Yhat[user_id, items_ids]\n",
    "print('Rated movies ids :', items_ids )\n",
    "print('True ratings     :', rated_scores)\n",
    "print('Predicted ratings:', Yhat[items_ids, user_id])"
   ]
  },
  {
   "cell_type": "markdown",
   "id": "ac34d637",
   "metadata": {},
   "source": [
    "### Evaluate Models"
   ]
  },
  {
   "cell_type": "code",
   "execution_count": 88,
   "id": "7d5739d4",
   "metadata": {},
   "outputs": [
    {
     "name": "stdout",
     "output_type": "stream",
     "text": [
      "RMSE for training: 0.9089804562826721\n",
      "RMSE for test    : 1.2703282700393037\n"
     ]
    }
   ],
   "source": [
    "from math import *\n",
    "\n",
    "def evaluate(Yhat, rates, W, b):\n",
    "    se = 0\n",
    "    cnt = 0\n",
    "    for user_index in range(n_users):\n",
    "        user_id = user_index + 1\n",
    "        ids, scores_truth = get_items_rated_by_user(rates, user_id)\n",
    "        scores_pred = Yhat[ids, user_index]\n",
    "        e = scores_truth - scores_pred \n",
    "        se += (e*e).sum(axis = 0)\n",
    "        cnt += e.size \n",
    "    return sqrt(se/cnt)\n",
    "\n",
    "print('RMSE for training:', evaluate(Yhat, rating_base_pd.values, W, b))\n",
    "print('RMSE for test    :', evaluate(Yhat, rating_test_pd.values, W, b))"
   ]
  }
 ],
 "metadata": {
  "kernelspec": {
   "display_name": "Python 3",
   "language": "python",
   "name": "python3"
  },
  "language_info": {
   "codemirror_mode": {
    "name": "ipython",
    "version": 3
   },
   "file_extension": ".py",
   "mimetype": "text/x-python",
   "name": "python",
   "nbconvert_exporter": "python",
   "pygments_lexer": "ipython3",
   "version": "3.12.1"
  }
 },
 "nbformat": 4,
 "nbformat_minor": 5
}
