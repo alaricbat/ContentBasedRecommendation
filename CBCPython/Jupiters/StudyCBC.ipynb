{
 "cells": [
  {
   "cell_type": "markdown",
   "id": "7be05260",
   "metadata": {},
   "source": [
    "Import Libraries"
   ]
  },
  {
   "cell_type": "code",
   "execution_count": 2,
   "id": "5fcd93e3",
   "metadata": {},
   "outputs": [
    {
     "name": "stderr",
     "output_type": "stream",
     "text": [
      "/var/folders/lp/hgbg7xdj7ql_zq41nk0lt6yw0000gn/T/ipykernel_48041/4080736814.py:1: DeprecationWarning: \n",
      "Pyarrow will become a required dependency of pandas in the next major release of pandas (pandas 3.0),\n",
      "(to allow more performant data types, such as the Arrow string type, and better interoperability with other libraries)\n",
      "but was not found to be installed on your system.\n",
      "If this would cause problems for you,\n",
      "please provide us feedback at https://github.com/pandas-dev/pandas/issues/54466\n",
      "        \n",
      "  import pandas as pd\n"
     ]
    }
   ],
   "source": [
    "import pandas as pd"
   ]
  },
  {
   "cell_type": "markdown",
   "id": "445e8d77",
   "metadata": {},
   "source": [
    "Holding Data"
   ]
  },
  {
   "cell_type": "code",
   "execution_count": 7,
   "id": "f993fccb",
   "metadata": {},
   "outputs": [
    {
     "data": {
      "text/plain": [
       "(943, 5)"
      ]
     },
     "execution_count": 7,
     "metadata": {},
     "output_type": "execute_result"
    }
   ],
   "source": [
    "user_cols = ['id', 'age', 'sex', 'occupation', 'zip_code']\n",
    "user_pd = pd.read_csv('../Dataset/ml-100k/u.user', sep='|', names=user_cols, encoding='latin-1')\n",
    "user_pd.shape"
   ]
  },
  {
   "cell_type": "code",
   "execution_count": 10,
   "id": "07788c61",
   "metadata": {},
   "outputs": [
    {
     "data": {
      "text/plain": [
       "((90570, 4), (9430, 4))"
      ]
     },
     "execution_count": 10,
     "metadata": {},
     "output_type": "execute_result"
    }
   ],
   "source": [
    "rate_cols = ['user_id', 'movie_id', 'rating', 'unix_timestamp']\n",
    "\n",
    "rating_base = pd.read_csv('../Dataset/ml-100k/ua.base', sep='\\t', names=rate_cols, encoding='latin-1')\n",
    "rating_test = pd.read_csv('../Dataset/ml-100k/ua.test', sep='\\t', names=rate_cols, encoding='latin-1')\n",
    "\n",
    "rating_base.shape, rating_test.shape"
   ]
  }
 ],
 "metadata": {
  "kernelspec": {
   "display_name": "Python 3",
   "language": "python",
   "name": "python3"
  },
  "language_info": {
   "codemirror_mode": {
    "name": "ipython",
    "version": 3
   },
   "file_extension": ".py",
   "mimetype": "text/x-python",
   "name": "python",
   "nbconvert_exporter": "python",
   "pygments_lexer": "ipython3",
   "version": "3.12.1"
  }
 },
 "nbformat": 4,
 "nbformat_minor": 5
}
